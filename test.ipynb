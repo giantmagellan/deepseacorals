{
 "cells": [
  {
   "cell_type": "code",
   "execution_count": 2,
   "metadata": {},
   "outputs": [],
   "source": [
    "import pandas as pd"
   ]
  },
  {
   "cell_type": "code",
   "execution_count": 3,
   "metadata": {},
   "outputs": [],
   "source": [
    "csv_name = \"data_raw/dhw_5km_db8d_5daf_80ed.csv\""
   ]
  },
  {
   "cell_type": "code",
   "execution_count": 4,
   "metadata": {},
   "outputs": [
    {
     "data": {
      "text/html": [
       "<div>\n",
       "<style scoped>\n",
       "    .dataframe tbody tr th:only-of-type {\n",
       "        vertical-align: middle;\n",
       "    }\n",
       "\n",
       "    .dataframe tbody tr th {\n",
       "        vertical-align: top;\n",
       "    }\n",
       "\n",
       "    .dataframe thead th {\n",
       "        text-align: right;\n",
       "    }\n",
       "</style>\n",
       "<table border=\"1\" class=\"dataframe\">\n",
       "  <thead>\n",
       "    <tr style=\"text-align: right;\">\n",
       "      <th></th>\n",
       "      <th>time</th>\n",
       "      <th>latitude</th>\n",
       "      <th>longitude</th>\n",
       "      <th>CRW_BAA</th>\n",
       "      <th>CRW_BAA_mask</th>\n",
       "      <th>CRW_BAA_7D_MAX</th>\n",
       "      <th>CRW_BAA_7D_MAX_mask</th>\n",
       "      <th>CRW_DHW</th>\n",
       "      <th>CRW_DHW_mask</th>\n",
       "      <th>CRW_HOTSPOT</th>\n",
       "      <th>CRW_HOTSPOT_mask</th>\n",
       "      <th>CRW_SST</th>\n",
       "      <th>CRW_SSTANOMALY</th>\n",
       "      <th>CRW_SSTANOMALY_mask</th>\n",
       "    </tr>\n",
       "  </thead>\n",
       "  <tbody>\n",
       "    <tr>\n",
       "      <th>0</th>\n",
       "      <td>2022-05-27T12:00:00Z</td>\n",
       "      <td>18.375</td>\n",
       "      <td>-65.625</td>\n",
       "      <td>0</td>\n",
       "      <td>0</td>\n",
       "      <td>0</td>\n",
       "      <td>0</td>\n",
       "      <td>0.0</td>\n",
       "      <td>0</td>\n",
       "      <td>-0.98</td>\n",
       "      <td>0</td>\n",
       "      <td>27.57</td>\n",
       "      <td>0.34</td>\n",
       "      <td>0</td>\n",
       "    </tr>\n",
       "    <tr>\n",
       "      <th>1</th>\n",
       "      <td>2022-05-27T12:00:00Z</td>\n",
       "      <td>18.375</td>\n",
       "      <td>-65.575</td>\n",
       "      <td>0</td>\n",
       "      <td>0</td>\n",
       "      <td>0</td>\n",
       "      <td>0</td>\n",
       "      <td>0.0</td>\n",
       "      <td>0</td>\n",
       "      <td>-0.96</td>\n",
       "      <td>0</td>\n",
       "      <td>27.58</td>\n",
       "      <td>0.34</td>\n",
       "      <td>0</td>\n",
       "    </tr>\n",
       "    <tr>\n",
       "      <th>2</th>\n",
       "      <td>2022-05-27T12:00:00Z</td>\n",
       "      <td>18.375</td>\n",
       "      <td>-65.525</td>\n",
       "      <td>0</td>\n",
       "      <td>0</td>\n",
       "      <td>0</td>\n",
       "      <td>0</td>\n",
       "      <td>0.0</td>\n",
       "      <td>0</td>\n",
       "      <td>-0.95</td>\n",
       "      <td>0</td>\n",
       "      <td>27.58</td>\n",
       "      <td>0.33</td>\n",
       "      <td>0</td>\n",
       "    </tr>\n",
       "    <tr>\n",
       "      <th>3</th>\n",
       "      <td>2022-05-27T12:00:00Z</td>\n",
       "      <td>18.325</td>\n",
       "      <td>-65.625</td>\n",
       "      <td>0</td>\n",
       "      <td>0</td>\n",
       "      <td>0</td>\n",
       "      <td>0</td>\n",
       "      <td>0.0</td>\n",
       "      <td>0</td>\n",
       "      <td>-0.88</td>\n",
       "      <td>0</td>\n",
       "      <td>27.68</td>\n",
       "      <td>0.41</td>\n",
       "      <td>0</td>\n",
       "    </tr>\n",
       "    <tr>\n",
       "      <th>4</th>\n",
       "      <td>2022-05-27T12:00:00Z</td>\n",
       "      <td>18.325</td>\n",
       "      <td>-65.575</td>\n",
       "      <td>0</td>\n",
       "      <td>0</td>\n",
       "      <td>0</td>\n",
       "      <td>0</td>\n",
       "      <td>0.0</td>\n",
       "      <td>0</td>\n",
       "      <td>-0.86</td>\n",
       "      <td>0</td>\n",
       "      <td>27.69</td>\n",
       "      <td>0.41</td>\n",
       "      <td>0</td>\n",
       "    </tr>\n",
       "  </tbody>\n",
       "</table>\n",
       "</div>"
      ],
      "text/plain": [
       "                   time  latitude  longitude  CRW_BAA  CRW_BAA_mask  \\\n",
       "0  2022-05-27T12:00:00Z    18.375    -65.625        0             0   \n",
       "1  2022-05-27T12:00:00Z    18.375    -65.575        0             0   \n",
       "2  2022-05-27T12:00:00Z    18.375    -65.525        0             0   \n",
       "3  2022-05-27T12:00:00Z    18.325    -65.625        0             0   \n",
       "4  2022-05-27T12:00:00Z    18.325    -65.575        0             0   \n",
       "\n",
       "   CRW_BAA_7D_MAX  CRW_BAA_7D_MAX_mask  CRW_DHW  CRW_DHW_mask  CRW_HOTSPOT  \\\n",
       "0               0                    0      0.0             0        -0.98   \n",
       "1               0                    0      0.0             0        -0.96   \n",
       "2               0                    0      0.0             0        -0.95   \n",
       "3               0                    0      0.0             0        -0.88   \n",
       "4               0                    0      0.0             0        -0.86   \n",
       "\n",
       "   CRW_HOTSPOT_mask  CRW_SST  CRW_SSTANOMALY  CRW_SSTANOMALY_mask  \n",
       "0                 0    27.57            0.34                    0  \n",
       "1                 0    27.58            0.34                    0  \n",
       "2                 0    27.58            0.33                    0  \n",
       "3                 0    27.68            0.41                    0  \n",
       "4                 0    27.69            0.41                    0  "
      ]
     },
     "execution_count": 4,
     "metadata": {},
     "output_type": "execute_result"
    }
   ],
   "source": [
    "df = pd.read_csv(csv_name, index_col=False)\n",
    "df.head()"
   ]
  },
  {
   "cell_type": "code",
   "execution_count": 5,
   "metadata": {},
   "outputs": [
    {
     "data": {
      "text/plain": [
       "Index(['time', 'latitude', 'longitude', 'crw_baa', 'crw_baa_mask',\n",
       "       'crw_baa_7d_max', 'crw_baa_7d_max_mask', 'crw_dhw', 'crw_dhw_mask',\n",
       "       'crw_hotspot', 'crw_hotspot_mask', 'crw_sst', 'crw_sstanomaly',\n",
       "       'crw_sstanomaly_mask'],\n",
       "      dtype='object')"
      ]
     },
     "execution_count": 5,
     "metadata": {},
     "output_type": "execute_result"
    }
   ],
   "source": [
    "df.columns.str.strip().str.lower()"
   ]
  },
  {
   "cell_type": "code",
   "execution_count": null,
   "metadata": {},
   "outputs": [],
   "source": []
  }
 ],
 "metadata": {
  "kernelspec": {
   "display_name": "water-pipeline",
   "language": "python",
   "name": "python3"
  },
  "language_info": {
   "codemirror_mode": {
    "name": "ipython",
    "version": 3
   },
   "file_extension": ".py",
   "mimetype": "text/x-python",
   "name": "python",
   "nbconvert_exporter": "python",
   "pygments_lexer": "ipython3",
   "version": "3.10.9"
  },
  "orig_nbformat": 4,
  "vscode": {
   "interpreter": {
    "hash": "8864873b594fcf8740744447c443baedb0eac65b258f7697c41bd4225a2aabe8"
   }
  }
 },
 "nbformat": 4,
 "nbformat_minor": 2
}
